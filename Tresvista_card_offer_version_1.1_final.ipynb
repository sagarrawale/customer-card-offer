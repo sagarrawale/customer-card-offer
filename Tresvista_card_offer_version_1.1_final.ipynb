{
 "cells": [
  {
   "cell_type": "markdown",
   "metadata": {
    "collapsed": true
   },
   "source": [
    "### Authored by : Sagar Rawale(Aspiring Data Scientist)"
   ]
  },
  {
   "cell_type": "markdown",
   "metadata": {},
   "source": [
    "# Problem Statement "
   ]
  },
  {
   "cell_type": "markdown",
   "metadata": {},
   "source": [
    "<strong>Build a model to predict whether the customer will accept Card Offer or not.</strong>"
   ]
  },
  {
   "cell_type": "markdown",
   "metadata": {},
   "source": [
    "### Business Goal:\n",
    "<hr/><span style=\"color:black; font-family: 'calibri'; font-size: 1.2em;\">\n",
    "We need to build a model which will <strong>help management of the company to minimize their allocation of resources/people and put them towards more targeted customers</strong> who will be most likely to subscribe for an card offer predicted by the model.  \n",
    "\n",
    "Our goal is to\n",
    "<ul>\n",
    "<li>predict whether the customer will take the Card Offer or not based on his/her financial details and demographical information (as given in the Dataset).</li>\n",
    "<li>analyze which information helps the most in such decision making and in future build some policies around it.</li>\n",
    "</ul>"
   ]
  },
  {
   "cell_type": "markdown",
   "metadata": {},
   "source": [
    "### Approach\n",
    "<hr/><span style=\"color:black; font-family: 'calibri'; font-size: 1.2em;\">By using standard approach / steps for any Machine Learning lifecycle project or some of the steps mentioned in  <a href=\"https://en.wikipedia.org/wiki/Cross-industry_standard_process_for_data_mining\">CRISP-DM (Cross Industry Standard Process Data Mining)</a> model. \n",
    "<ol>\n",
    "<li>Data understanding</li>\n",
    "<li>Analyze the dataset and transform it using\n",
    "<ul>\n",
    "<li>Exploratory Data Analysis</li>\n",
    "<li>Feature Engineering</li>\n",
    "</ul>\n",
    "<li>Model Building</li>\n",
    "<ul>\n",
    "<li>Logistic Regression (LR)</li>\n",
    "<li>Decision Tree (DT)</li>\n",
    "<li>Random Forest (Boostrap Ensemble of DT)</li>\n",
    "</ul>\n",
    "<li>Performance Evaluation at each step of Model Building</li>\n",
    "<li>Model Selection</li>\n",
    "</ol></span>"
   ]
  },
  {
   "cell_type": "markdown",
   "metadata": {},
   "source": [
    "### Considerations for Model Selection\n",
    "<hr/>\n",
    "<span style=\"color:black; font-family: 'calibri'; font-size: 1.2em;\">Based on the problem statement and goal to be achieved, we need to predict the customer will take card offer or not.\n",
    "\n",
    "\n",
    "This indicates that this is <strong>a classification problem</strong>. \n",
    "\n",
    "We will be evaluating performance of a model based on following error metrics: \n",
    "<ol>\n",
    "<li>Accuracy: Accuracy Score</li>\n",
    "<li>AUROC Score of the model.</li>\n",
    "<li>F1 Score.</li>\n",
    "<li>Precision/Recall Score</li>\n",
    "<li>Top feature importances predicted by each model</li>\n",
    "</ol>\n",
    "\n",
    "while doing so I will explore several models and try to evaluate the performance of each model using these metrics.\n",
    "\n",
    "Following steps to be followed for appropriate model selection\n",
    "- Train data on basic model\n",
    "- Evaluate performance metric\n",
    "- Perform Hyperparameter Tuning on model\n",
    "- Evaluate performance metric\n",
    "\n",
    "\n",
    "[Repeat above steps for each model]\n",
    "\n",
    "NOTE : The selection of threshold value for decision boundary is based on our intuition/Assumptions. \n",
    "\n",
    "</span>"
   ]
  },
  {
   "cell_type": "markdown",
   "metadata": {},
   "source": [
    "# Preliminaries"
   ]
  },
  {
   "cell_type": "code",
   "execution_count": 708,
   "metadata": {
    "collapsed": true
   },
   "outputs": [],
   "source": [
    "# numpy and pandas imports\n",
    "import numpy as np\n",
    "import pandas as pd\n",
    "import matplotlib.pyplot as plt\n",
    "import seaborn as sns\n",
    "\n",
    "# ML Libraries for scikit\n",
    "from sklearn.model_selection import train_test_split\n",
    "%matplotlib inline\n",
    "from sklearn.preprocessing import RobustScaler\n",
    "from sklearn.preprocessing import StandardScaler\n",
    "from sklearn.linear_model import LogisticRegression\n",
    "from sklearn.ensemble import RandomForestClassifier\n",
    "from sklearn.tree import DecisionTreeClassifier\n",
    "from sklearn import tree \n",
    "from sklearn.feature_selection import SelectKBest, f_classif, chi2\n",
    "from sklearn import tree\n",
    "from sklearn.metrics import accuracy_score,classification_report,confusion_matrix,\\\n",
    "                            precision_recall_curve,precision_score,recall_score,roc_auc_score,\\\n",
    "                             f1_score\n",
    "from scipy.stats import skew\n",
    "\n",
    "#  Recursive Feature Elimination\n",
    "#from sklearn.feature_selection import RFE\n",
    "        \n",
    "# Python imports\n",
    "from math import log, sqrt\n",
    "import re\n",
    "import collections\n",
    "import warnings\n",
    "\n"
   ]
  },
  {
   "cell_type": "markdown",
   "metadata": {},
   "source": [
    "# Loading Data set"
   ]
  },
  {
   "cell_type": "code",
   "execution_count": 709,
   "metadata": {},
   "outputs": [
    {
     "data": {
      "text/html": [
       "<div>\n",
       "<style>\n",
       "    .dataframe thead tr:only-child th {\n",
       "        text-align: right;\n",
       "    }\n",
       "\n",
       "    .dataframe thead th {\n",
       "        text-align: left;\n",
       "    }\n",
       "\n",
       "    .dataframe tbody tr th {\n",
       "        vertical-align: top;\n",
       "    }\n",
       "</style>\n",
       "<table border=\"1\" class=\"dataframe\">\n",
       "  <thead>\n",
       "    <tr style=\"text-align: right;\">\n",
       "      <th></th>\n",
       "      <th>customer_id</th>\n",
       "      <th>demographic_slice</th>\n",
       "      <th>country_reg</th>\n",
       "      <th>ad_exp</th>\n",
       "      <th>est_income</th>\n",
       "      <th>hold_bal</th>\n",
       "      <th>pref_cust_prob</th>\n",
       "      <th>imp_cscore</th>\n",
       "      <th>RiskScore</th>\n",
       "      <th>imp_crediteval</th>\n",
       "      <th>axio_score</th>\n",
       "      <th>card_offer</th>\n",
       "    </tr>\n",
       "  </thead>\n",
       "  <tbody>\n",
       "    <tr>\n",
       "      <th>0</th>\n",
       "      <td>713782</td>\n",
       "      <td>AX03efs</td>\n",
       "      <td>W</td>\n",
       "      <td>N</td>\n",
       "      <td>33407.901749</td>\n",
       "      <td>3.000000</td>\n",
       "      <td>0.531112</td>\n",
       "      <td>619</td>\n",
       "      <td>503.249027</td>\n",
       "      <td>23.977827</td>\n",
       "      <td>0.137289</td>\n",
       "      <td>False</td>\n",
       "    </tr>\n",
       "    <tr>\n",
       "      <th>1</th>\n",
       "      <td>515901</td>\n",
       "      <td>AX03efs</td>\n",
       "      <td>E</td>\n",
       "      <td>N</td>\n",
       "      <td>19927.533533</td>\n",
       "      <td>20.257927</td>\n",
       "      <td>0.297439</td>\n",
       "      <td>527</td>\n",
       "      <td>820.108146</td>\n",
       "      <td>22.986398</td>\n",
       "      <td>0.052264</td>\n",
       "      <td>False</td>\n",
       "    </tr>\n",
       "    <tr>\n",
       "      <th>2</th>\n",
       "      <td>95166</td>\n",
       "      <td>AX03efs</td>\n",
       "      <td>W</td>\n",
       "      <td>Y</td>\n",
       "      <td>51222.470997</td>\n",
       "      <td>4.000000</td>\n",
       "      <td>0.018463</td>\n",
       "      <td>606</td>\n",
       "      <td>586.605795</td>\n",
       "      <td>24.939219</td>\n",
       "      <td>0.452035</td>\n",
       "      <td>False</td>\n",
       "    </tr>\n",
       "    <tr>\n",
       "      <th>3</th>\n",
       "      <td>425557</td>\n",
       "      <td>AX03efs</td>\n",
       "      <td>E</td>\n",
       "      <td>Y</td>\n",
       "      <td>67211.587467</td>\n",
       "      <td>18.653631</td>\n",
       "      <td>0.089344</td>\n",
       "      <td>585</td>\n",
       "      <td>634.701982</td>\n",
       "      <td>24.841147</td>\n",
       "      <td>0.564619</td>\n",
       "      <td>False</td>\n",
       "    </tr>\n",
       "    <tr>\n",
       "      <th>4</th>\n",
       "      <td>624581</td>\n",
       "      <td>AX03efs</td>\n",
       "      <td>W</td>\n",
       "      <td>N</td>\n",
       "      <td>20093.342158</td>\n",
       "      <td>4.000000</td>\n",
       "      <td>0.094948</td>\n",
       "      <td>567</td>\n",
       "      <td>631.949979</td>\n",
       "      <td>24.679363</td>\n",
       "      <td>0.917304</td>\n",
       "      <td>False</td>\n",
       "    </tr>\n",
       "  </tbody>\n",
       "</table>\n",
       "</div>"
      ],
      "text/plain": [
       "   customer_id demographic_slice country_reg ad_exp    est_income   hold_bal  \\\n",
       "0       713782           AX03efs           W      N  33407.901749   3.000000   \n",
       "1       515901           AX03efs           E      N  19927.533533  20.257927   \n",
       "2        95166           AX03efs           W      Y  51222.470997   4.000000   \n",
       "3       425557           AX03efs           E      Y  67211.587467  18.653631   \n",
       "4       624581           AX03efs           W      N  20093.342158   4.000000   \n",
       "\n",
       "   pref_cust_prob  imp_cscore   RiskScore  imp_crediteval  axio_score  \\\n",
       "0        0.531112         619  503.249027       23.977827    0.137289   \n",
       "1        0.297439         527  820.108146       22.986398    0.052264   \n",
       "2        0.018463         606  586.605795       24.939219    0.452035   \n",
       "3        0.089344         585  634.701982       24.841147    0.564619   \n",
       "4        0.094948         567  631.949979       24.679363    0.917304   \n",
       "\n",
       "   card_offer  \n",
       "0       False  \n",
       "1       False  \n",
       "2       False  \n",
       "3       False  \n",
       "4       False  "
      ]
     },
     "execution_count": 709,
     "metadata": {},
     "output_type": "execute_result"
    }
   ],
   "source": [
    "path = 'Desktop/tresvista/test1.csv'\n",
    "path1 = 'Desktop/tresvista/test2.csv'\n",
    "df_orignal = pd.read_csv(path)\n",
    "df_test1 = pd.read_csv(path1)\n",
    "df_orignal.head()"
   ]
  },
  {
   "cell_type": "markdown",
   "metadata": {
    "collapsed": true
   },
   "source": [
    "## Data Understanding\n",
    "<span style=\"color:black; font-family: 'calibri'; font-size: 1.2em;\">Dataset contains total <strong>12 columns.</strong></b>\n",
    "Out of which <strong>8 are numeric</strong>, <strong>3 are categorical</strong> and <strong>1 is boolean</strong>.\n",
    "\n",
    "<strong>card_offer</strong> is the column we have to predict for unseen data.\n",
    "\n",
    "Lets see our features in dataset\n",
    "<ol>\n",
    "<li>customer_id : Unique ID for each Customer [Numeric]</li>\n",
    "<li>demographic_slice : segmentation of customer details [Categorical]</li>\n",
    "<li>country_reg : Country Region(W/E) [Categorical]</li>\n",
    "<li>ad_exp : Have Experience or not [Categorical]</li>\n",
    "<li>est_income : Income of the customer [Numeric]</li>\n",
    "<li>hold_bal : Remaining Balance of the customer [Numeric]</li>\n",
    "<li>pref_cust_prob : Probablity of customer preference [Numeric]</li>\n",
    "<li>imp_cscore : Credit score of the customer [Numeric]</li>\n",
    "<li>RiskScore : Risk score of the customer [Numeric]</li>\n",
    "<li>imp_crediteval : Credit value of the customer [Numeric]</li>\n",
    "<li>axio_score : Score of the customer [Numeric]</li>\n",
    "<li>card_offer : Whether card offer accepted by customer or not[Boolean]</li>\n",
    "</ol>\n"
   ]
  },
  {
   "cell_type": "code",
   "execution_count": 710,
   "metadata": {},
   "outputs": [
    {
     "name": "stdout",
     "output_type": "stream",
     "text": [
      "<class 'pandas.core.frame.DataFrame'>\n",
      "RangeIndex: 10000 entries, 0 to 9999\n",
      "Data columns (total 12 columns):\n",
      "customer_id          10000 non-null int64\n",
      "demographic_slice    10000 non-null object\n",
      "country_reg          10000 non-null object\n",
      "ad_exp               10000 non-null object\n",
      "est_income           10000 non-null float64\n",
      "hold_bal             10000 non-null float64\n",
      "pref_cust_prob       10000 non-null float64\n",
      "imp_cscore           10000 non-null int64\n",
      "RiskScore            10000 non-null float64\n",
      "imp_crediteval       10000 non-null float64\n",
      "axio_score           10000 non-null float64\n",
      "card_offer           10000 non-null bool\n",
      "dtypes: bool(1), float64(6), int64(2), object(3)\n",
      "memory usage: 752.0+ KB\n"
     ]
    }
   ],
   "source": [
    "df = df_orignal.copy()\n",
    "df.info()"
   ]
  },
  {
   "cell_type": "markdown",
   "metadata": {},
   "source": [
    "<span style=\"color:black; font-family: 'calibri'; font-size: 1.2em;\">As you can see from the above information, the dataset does not look to have missing values.</b>"
   ]
  },
  {
   "cell_type": "code",
   "execution_count": 90,
   "metadata": {},
   "outputs": [
    {
     "name": "stdout",
     "output_type": "stream",
     "text": [
      "Explanatory variables:  11\n",
      "Number of Observations: 10000\n",
      "Target variable:       'card_offer'\n"
     ]
    }
   ],
   "source": [
    "print(\"Explanatory variables:  {}\".format(len(df.columns)-1))\n",
    "print(\"Number of Observations: {}\".format(df.shape[0]))\n",
    "print(\"Target variable:       '{}'\".format('card_offer'))"
   ]
  },
  {
   "cell_type": "markdown",
   "metadata": {},
   "source": [
    "## Exploratory Data Analysis"
   ]
  },
  {
   "cell_type": "markdown",
   "metadata": {},
   "source": [
    "Replace boolean values in target feature with binary '0' and '1'\n",
    "- 0 for False [card offer rejected]\n",
    "- 1 for True [card offer accepted]"
   ]
  },
  {
   "cell_type": "code",
   "execution_count": 711,
   "metadata": {},
   "outputs": [
    {
     "data": {
      "text/html": [
       "<div>\n",
       "<style>\n",
       "    .dataframe thead tr:only-child th {\n",
       "        text-align: right;\n",
       "    }\n",
       "\n",
       "    .dataframe thead th {\n",
       "        text-align: left;\n",
       "    }\n",
       "\n",
       "    .dataframe tbody tr th {\n",
       "        vertical-align: top;\n",
       "    }\n",
       "</style>\n",
       "<table border=\"1\" class=\"dataframe\">\n",
       "  <thead>\n",
       "    <tr style=\"text-align: right;\">\n",
       "      <th></th>\n",
       "      <th>customer_id</th>\n",
       "      <th>demographic_slice</th>\n",
       "      <th>country_reg</th>\n",
       "      <th>ad_exp</th>\n",
       "      <th>est_income</th>\n",
       "      <th>hold_bal</th>\n",
       "      <th>pref_cust_prob</th>\n",
       "      <th>imp_cscore</th>\n",
       "      <th>RiskScore</th>\n",
       "      <th>imp_crediteval</th>\n",
       "      <th>axio_score</th>\n",
       "      <th>card_offer</th>\n",
       "    </tr>\n",
       "  </thead>\n",
       "  <tbody>\n",
       "    <tr>\n",
       "      <th>0</th>\n",
       "      <td>713782</td>\n",
       "      <td>AX03efs</td>\n",
       "      <td>W</td>\n",
       "      <td>N</td>\n",
       "      <td>33407.901749</td>\n",
       "      <td>3.000000</td>\n",
       "      <td>0.531112</td>\n",
       "      <td>619</td>\n",
       "      <td>503.249027</td>\n",
       "      <td>23.977827</td>\n",
       "      <td>0.137289</td>\n",
       "      <td>0</td>\n",
       "    </tr>\n",
       "    <tr>\n",
       "      <th>1</th>\n",
       "      <td>515901</td>\n",
       "      <td>AX03efs</td>\n",
       "      <td>E</td>\n",
       "      <td>N</td>\n",
       "      <td>19927.533533</td>\n",
       "      <td>20.257927</td>\n",
       "      <td>0.297439</td>\n",
       "      <td>527</td>\n",
       "      <td>820.108146</td>\n",
       "      <td>22.986398</td>\n",
       "      <td>0.052264</td>\n",
       "      <td>0</td>\n",
       "    </tr>\n",
       "    <tr>\n",
       "      <th>2</th>\n",
       "      <td>95166</td>\n",
       "      <td>AX03efs</td>\n",
       "      <td>W</td>\n",
       "      <td>Y</td>\n",
       "      <td>51222.470997</td>\n",
       "      <td>4.000000</td>\n",
       "      <td>0.018463</td>\n",
       "      <td>606</td>\n",
       "      <td>586.605795</td>\n",
       "      <td>24.939219</td>\n",
       "      <td>0.452035</td>\n",
       "      <td>0</td>\n",
       "    </tr>\n",
       "    <tr>\n",
       "      <th>3</th>\n",
       "      <td>425557</td>\n",
       "      <td>AX03efs</td>\n",
       "      <td>E</td>\n",
       "      <td>Y</td>\n",
       "      <td>67211.587467</td>\n",
       "      <td>18.653631</td>\n",
       "      <td>0.089344</td>\n",
       "      <td>585</td>\n",
       "      <td>634.701982</td>\n",
       "      <td>24.841147</td>\n",
       "      <td>0.564619</td>\n",
       "      <td>0</td>\n",
       "    </tr>\n",
       "    <tr>\n",
       "      <th>4</th>\n",
       "      <td>624581</td>\n",
       "      <td>AX03efs</td>\n",
       "      <td>W</td>\n",
       "      <td>N</td>\n",
       "      <td>20093.342158</td>\n",
       "      <td>4.000000</td>\n",
       "      <td>0.094948</td>\n",
       "      <td>567</td>\n",
       "      <td>631.949979</td>\n",
       "      <td>24.679363</td>\n",
       "      <td>0.917304</td>\n",
       "      <td>0</td>\n",
       "    </tr>\n",
       "  </tbody>\n",
       "</table>\n",
       "</div>"
      ],
      "text/plain": [
       "   customer_id demographic_slice country_reg ad_exp    est_income   hold_bal  \\\n",
       "0       713782           AX03efs           W      N  33407.901749   3.000000   \n",
       "1       515901           AX03efs           E      N  19927.533533  20.257927   \n",
       "2        95166           AX03efs           W      Y  51222.470997   4.000000   \n",
       "3       425557           AX03efs           E      Y  67211.587467  18.653631   \n",
       "4       624581           AX03efs           W      N  20093.342158   4.000000   \n",
       "\n",
       "   pref_cust_prob  imp_cscore   RiskScore  imp_crediteval  axio_score  \\\n",
       "0        0.531112         619  503.249027       23.977827    0.137289   \n",
       "1        0.297439         527  820.108146       22.986398    0.052264   \n",
       "2        0.018463         606  586.605795       24.939219    0.452035   \n",
       "3        0.089344         585  634.701982       24.841147    0.564619   \n",
       "4        0.094948         567  631.949979       24.679363    0.917304   \n",
       "\n",
       "   card_offer  \n",
       "0           0  \n",
       "1           0  \n",
       "2           0  \n",
       "3           0  \n",
       "4           0  "
      ]
     },
     "execution_count": 711,
     "metadata": {},
     "output_type": "execute_result"
    }
   ],
   "source": [
    "df['card_offer'].replace([False, True], [0, 1], inplace=True)\n",
    "df.head()"
   ]
  },
  {
   "cell_type": "markdown",
   "metadata": {},
   "source": [
    "<strong>What percentage of people accepted the card offer according to the dataset?</strong>\n",
    "\n",
    "\n",
    "Lets find out,"
   ]
  },
  {
   "cell_type": "code",
   "execution_count": 712,
   "metadata": {},
   "outputs": [
    {
     "name": "stdout",
     "output_type": "stream",
     "text": [
      "Class Statistics on entire data 10000:\n"
     ]
    },
    {
     "data": {
      "text/html": [
       "<div>\n",
       "<style>\n",
       "    .dataframe thead tr:only-child th {\n",
       "        text-align: right;\n",
       "    }\n",
       "\n",
       "    .dataframe thead th {\n",
       "        text-align: left;\n",
       "    }\n",
       "\n",
       "    .dataframe tbody tr th {\n",
       "        vertical-align: top;\n",
       "    }\n",
       "</style>\n",
       "<table border=\"1\" class=\"dataframe\">\n",
       "  <thead>\n",
       "    <tr style=\"text-align: right;\">\n",
       "      <th></th>\n",
       "      <th>Count</th>\n",
       "      <th>Percent Split</th>\n",
       "    </tr>\n",
       "  </thead>\n",
       "  <tbody>\n",
       "    <tr>\n",
       "      <th>False</th>\n",
       "      <td>8469</td>\n",
       "      <td>84.69</td>\n",
       "    </tr>\n",
       "    <tr>\n",
       "      <th>True</th>\n",
       "      <td>1531</td>\n",
       "      <td>15.31</td>\n",
       "    </tr>\n",
       "  </tbody>\n",
       "</table>\n",
       "</div>"
      ],
      "text/plain": [
       "       Count  Percent Split\n",
       "False   8469          84.69\n",
       "True    1531          15.31"
      ]
     },
     "metadata": {},
     "output_type": "display_data"
    },
    {
     "data": {
      "image/png": "[encoded data removed]",
      "text/plain": [
       "<matplotlib.figure.Figure at 0xe0eae90>"
      ]
     },
     "metadata": {},
     "output_type": "display_data"
    }
   ],
   "source": [
    "total_cnt = df.shape[0]\n",
    "print 'Class Statistics on entire data {}:'.format(total_cnt)\n",
    "cls_cnt = df['card_offer'].value_counts()\n",
    "cls_stats = pd.DataFrame ({\"Count\": [cls_cnt[0], cls_cnt[1]],\\\n",
    "                        \"Percent Split\" : [((cls_cnt[0] * 100.0) /total_cnt), ((cls_cnt[1] * 100.0) /total_cnt)]},\n",
    "                         index=[\"False\", \"True\"])\n",
    "display(cls_stats)\n",
    "plt.figure(figsize=(5,5))\n",
    "ax = cls_cnt.plot(kind='bar')\n",
    "ax.set_xlabel(\"Default Status\")\n",
    "ax.set_ylabel(\"No. of Instances\")\n",
    "ax.set_xticklabels(['False', 'True'])\n",
    "plt.tight_layout()\n",
    "plt.show()"
   ]
  },
  {
   "cell_type": "markdown",
   "metadata": {},
   "source": [
    "<strong>Thus 15.31% instances accepted card offers among all.</strong>"
   ]
  },
  {
   "cell_type": "markdown",
   "metadata": {},
   "source": [
    "Assuming these problem is not imbalance problem in dataset for now lets go ahead for further analysis of data."
   ]
  },
  {
   "cell_type": "markdown",
   "metadata": {},
   "source": [
    "### Exploring Categorical Variables"
   ]
  },
  {
   "cell_type": "code",
   "execution_count": 609,
   "metadata": {
    "scrolled": false
   },
   "outputs": [
    {
     "data": {
      "image/png": "[encoded data removed]",
      "text/plain": [
       "<matplotlib.figure.Figure at 0xc4428d0>"
      ]
     },
     "metadata": {},
     "output_type": "display_data"
    }
   ],
   "source": [
    "fig, ax = plt.subplots(1,3)\n",
    "fig.set_size_inches(16,4)\n",
    "fig.suptitle('various demographics')\n",
    "\n",
    "d = df.groupby(['card_offer', 'demographic_slice']).size()\n",
    "p = d.unstack(level=1).plot(kind='bar', ax=ax[0])\n",
    "\n",
    "d = df.groupby(['card_offer', 'country_reg']).size()\n",
    "p = d.unstack(level=1).plot(kind='bar', ax=ax[1])\n",
    "\n",
    "d = df.groupby(['card_offer', 'ad_exp']).size()\n",
    "p = d.unstack(level=1).plot(kind='bar', ax=ax[2])\n",
    "\n"
   ]
  },
  {
   "cell_type": "markdown",
   "metadata": {},
   "source": [
    "No explicit conclusion can be drawn from above count plots. \n",
    "\n",
    "Lets see correlation of our independant features with each other."
   ]
  },
  {
   "cell_type": "code",
   "execution_count": 8,
   "metadata": {
    "collapsed": true
   },
   "outputs": [],
   "source": [
    "#sns.pairplot(df)"
   ]
  },
  {
   "cell_type": "code",
   "execution_count": 610,
   "metadata": {},
   "outputs": [
    {
     "data": {
      "text/plain": [
       "<matplotlib.axes._subplots.AxesSubplot at 0xa0d0ed0>"
      ]
     },
     "execution_count": 610,
     "metadata": {},
     "output_type": "execute_result"
    },
    {
     "data": {
      "image/png": "[encoded data removed]",
      "text/plain": [
       "<matplotlib.figure.Figure at 0x9aac390>"
      ]
     },
     "metadata": {},
     "output_type": "display_data"
    }
   ],
   "source": [
    "df_corr = df.copy()\n",
    "cm = df_corr.corr()\n",
    "plt.figure(figsize=(20,10))\n",
    "sns.heatmap(cm, annot=True, cmap = 'viridis')"
   ]
  },
  {
   "cell_type": "markdown",
   "metadata": {},
   "source": [
    "It is observed from heatmap that\n",
    "\n",
    "- __imp_crediteval__ is highly correlated with variable __imp_csore__. Thus we can remove any one of them from dataset.\n"
   ]
  },
  {
   "cell_type": "markdown",
   "metadata": {},
   "source": [
    "### Feature Engineering"
   ]
  },
  {
   "cell_type": "code",
   "execution_count": 713,
   "metadata": {},
   "outputs": [
    {
     "name": "stdout",
     "output_type": "stream",
     "text": [
      "(10000, 8)\n"
     ]
    },
    {
     "data": {
      "text/html": [
       "<div>\n",
       "<style>\n",
       "    .dataframe thead tr:only-child th {\n",
       "        text-align: right;\n",
       "    }\n",
       "\n",
       "    .dataframe thead th {\n",
       "        text-align: left;\n",
       "    }\n",
       "\n",
       "    .dataframe tbody tr th {\n",
       "        vertical-align: top;\n",
       "    }\n",
       "</style>\n",
       "<table border=\"1\" class=\"dataframe\">\n",
       "  <thead>\n",
       "    <tr style=\"text-align: right;\">\n",
       "      <th></th>\n",
       "      <th>customer_id</th>\n",
       "      <th>est_income</th>\n",
       "      <th>hold_bal</th>\n",
       "      <th>pref_cust_prob</th>\n",
       "      <th>RiskScore</th>\n",
       "      <th>imp_crediteval</th>\n",
       "      <th>axio_score</th>\n",
       "      <th>card_offer</th>\n",
       "    </tr>\n",
       "  </thead>\n",
       "  <tbody>\n",
       "    <tr>\n",
       "      <th>0</th>\n",
       "      <td>713782</td>\n",
       "      <td>33407.901749</td>\n",
       "      <td>3.000000</td>\n",
       "      <td>0.531112</td>\n",
       "      <td>503.249027</td>\n",
       "      <td>23.977827</td>\n",
       "      <td>0.137289</td>\n",
       "      <td>0</td>\n",
       "    </tr>\n",
       "    <tr>\n",
       "      <th>1</th>\n",
       "      <td>515901</td>\n",
       "      <td>19927.533533</td>\n",
       "      <td>20.257927</td>\n",
       "      <td>0.297439</td>\n",
       "      <td>820.108146</td>\n",
       "      <td>22.986398</td>\n",
       "      <td>0.052264</td>\n",
       "      <td>0</td>\n",
       "    </tr>\n",
       "    <tr>\n",
       "      <th>2</th>\n",
       "      <td>95166</td>\n",
       "      <td>51222.470997</td>\n",
       "      <td>4.000000</td>\n",
       "      <td>0.018463</td>\n",
       "      <td>586.605795</td>\n",
       "      <td>24.939219</td>\n",
       "      <td>0.452035</td>\n",
       "      <td>0</td>\n",
       "    </tr>\n",
       "    <tr>\n",
       "      <th>3</th>\n",
       "      <td>425557</td>\n",
       "      <td>67211.587467</td>\n",
       "      <td>18.653631</td>\n",
       "      <td>0.089344</td>\n",
       "      <td>634.701982</td>\n",
       "      <td>24.841147</td>\n",
       "      <td>0.564619</td>\n",
       "      <td>0</td>\n",
       "    </tr>\n",
       "    <tr>\n",
       "      <th>4</th>\n",
       "      <td>624581</td>\n",
       "      <td>20093.342158</td>\n",
       "      <td>4.000000</td>\n",
       "      <td>0.094948</td>\n",
       "      <td>631.949979</td>\n",
       "      <td>24.679363</td>\n",
       "      <td>0.917304</td>\n",
       "      <td>0</td>\n",
       "    </tr>\n",
       "  </tbody>\n",
       "</table>\n",
       "</div>"
      ],
      "text/plain": [
       "   customer_id    est_income   hold_bal  pref_cust_prob   RiskScore  \\\n",
       "0       713782  33407.901749   3.000000        0.531112  503.249027   \n",
       "1       515901  19927.533533  20.257927        0.297439  820.108146   \n",
       "2        95166  51222.470997   4.000000        0.018463  586.605795   \n",
       "3       425557  67211.587467  18.653631        0.089344  634.701982   \n",
       "4       624581  20093.342158   4.000000        0.094948  631.949979   \n",
       "\n",
       "   imp_crediteval  axio_score  card_offer  \n",
       "0       23.977827    0.137289           0  \n",
       "1       22.986398    0.052264           0  \n",
       "2       24.939219    0.452035           0  \n",
       "3       24.841147    0.564619           0  \n",
       "4       24.679363    0.917304           0  "
      ]
     },
     "execution_count": 713,
     "metadata": {},
     "output_type": "execute_result"
    }
   ],
   "source": [
    "#train data set\n",
    "dummies_df = pd.get_dummies(df[[\"demographic_slice\",\"country_reg\" , \"ad_exp\"]])\n",
    "print dummies_df.shape\n",
    "df1 = df.copy()\n",
    "df1.drop([\"demographic_slice\",\"country_reg\" , \"ad_exp\", \"imp_cscore\"], axis=1 ,inplace=True)\n",
    "df1.head()"
   ]
  },
  {
   "cell_type": "markdown",
   "metadata": {},
   "source": [
    "As you can see from the above information, the dataset has 3 categorial values, so we perform __One Hot Encoding__ to convert into numerial values."
   ]
  },
  {
   "cell_type": "code",
   "execution_count": 714,
   "metadata": {},
   "outputs": [
    {
     "data": {
      "text/plain": [
       "(10000, 7)"
      ]
     },
     "execution_count": 714,
     "metadata": {},
     "output_type": "execute_result"
    }
   ],
   "source": [
    "df1.drop(['customer_id'],inplace=True, axis=1)\n",
    "df1.shape"
   ]
  },
  {
   "cell_type": "markdown",
   "metadata": {},
   "source": [
    "##### Remove redundant features\n",
    "There are many unique customer ids in dataset.\n",
    "\n",
    "Thus there are chances of our model biasing towards the data which contains customer id of a customer who had previously accpeted card offer from the company. Hence removing it will help model to focus on other important features."
   ]
  },
  {
   "cell_type": "code",
   "execution_count": 10,
   "metadata": {},
   "outputs": [
    {
     "data": {
      "text/plain": [
       "<matplotlib.axes._subplots.AxesSubplot at 0xa503170>"
      ]
     },
     "execution_count": 10,
     "metadata": {},
     "output_type": "execute_result"
    },
    {
     "data": {
      "image/png": "[encoded data removed]",
      "text/plain": [
       "<matplotlib.figure.Figure at 0xa244d70>"
      ]
     },
     "metadata": {},
     "output_type": "display_data"
    }
   ],
   "source": [
    "fig, ax = plt.subplots(1,4)\n",
    "fig.set_size_inches(16,4)\n",
    "sns.distplot(df['hold_bal'],kde=True ,ax=ax[0])\n",
    "sns.distplot(df['est_income'],kde=True , ax=ax[1])\n",
    "sns.distplot(df['pref_cust_prob'],kde=True , ax=ax[2])\n",
    "sns.distplot(df['imp_cscore'],kde=True , ax=ax[3])\n",
    "#print 'Skewness on est_income is : ',skew(df['est_income'])"
   ]
  },
  {
   "cell_type": "code",
   "execution_count": 11,
   "metadata": {
    "scrolled": true
   },
   "outputs": [
    {
     "data": {
      "text/plain": [
       "<matplotlib.axes._subplots.AxesSubplot at 0xa8524b0>"
      ]
     },
     "execution_count": 11,
     "metadata": {},
     "output_type": "execute_result"
    },
    {
     "data": {
      "image/png": "[encoded data removed]",
      "text/plain": [
       "<matplotlib.figure.Figure at 0xa714bb0>"
      ]
     },
     "metadata": {},
     "output_type": "display_data"
    }
   ],
   "source": [
    "fig, ax = plt.subplots(1,3)\n",
    "fig.set_size_inches(16,4)\n",
    "sns.distplot(df['RiskScore'],kde=True ,ax=ax[0])\n",
    "sns.distplot(df['imp_crediteval'],kde=True , ax=ax[1])\n",
    "sns.distplot(df['axio_score'],kde=True , ax=ax[2])\n"
   ]
  },
  {
   "cell_type": "markdown",
   "metadata": {},
   "source": [
    "It is observed that our feature set contains data that is not uniformaly distributed. Hence we need to perform scaling and stardization.\n",
    "\n",
    "Here, we have used RobustScaler() transformer which is good at handling outliers and standardizing data. "
   ]
  },
  {
   "cell_type": "code",
   "execution_count": 715,
   "metadata": {
    "scrolled": true
   },
   "outputs": [
    {
     "data": {
      "text/plain": [
       "(10000, 15)"
      ]
     },
     "execution_count": 715,
     "metadata": {},
     "output_type": "execute_result"
    }
   ],
   "source": [
    "scaler = RobustScaler()\n",
    "scaled_df1 = scaler.fit_transform(df1)\n",
    "df1_columns = df1.columns\n",
    "df1 = pd.DataFrame(scaled_df1, columns=df1_columns)\n",
    "#df1.head()\n",
    "\n",
    "df_train = pd.concat([dummies_df , df1 ], axis=1)\n",
    "\n",
    "df_train.head()\n",
    "\n",
    "\n",
    "df_train.shape"
   ]
  },
  {
   "cell_type": "markdown",
   "metadata": {},
   "source": [
    "## Deciding evaluation metric for our model\n",
    "As we know that the company should be able to target people who are most likely to accept card offer if contacted.\n",
    "\n",
    "Thus we need to minimise the prediction where our model predicts TRUE for a customer but in reality the customer rejects the offer.\n",
    "\n",
    "This implies that we need to minimize our False Positive (FP) Rate."
   ]
  },
  {
   "cell_type": "markdown",
   "metadata": {},
   "source": [
    "<img src=\"https://upload.wikimedia.org/wikipedia/commons/thumb/3/38/Accuracy_and_precision.svg/520px-Accuracy_and_precision.svg.png\">\n",
    "Accuracy is the proximity of measurement results to the true value; precision, the repeatability, or reproducibility of the measurement.\n",
    "<hr>\n",
    "\n",
    "Accuracy : Overall, how often is the classifier correct? \n",
    "\n",
    "<strong>(TP+TN) / (TP+TN+FP+FN)</strong>\n",
    "<hr>\n",
    "Precision(P) : When it predicts yes, how often is it correct? \n",
    "\n",
    "<strong>TP / (TP+FP)</strong>\n",
    "<hr>\n",
    "Recall(R) : When it predicts yes, how many is actully correct? \n",
    "\n",
    "<strong>TP / (TP+FN)</strong>\n",
    "<hr>\n",
    "F1 Score : F1 Score is the weighted average of Precision and Recall. Therefore, this score takes both false positives and false negatives into account \n",
    "\n",
    "<strong>2* (P*R) / (P+R)</strong>"
   ]
  },
  {
   "cell_type": "markdown",
   "metadata": {},
   "source": [
    "##### In our case, we need F1 Score as evaluation metric for models. You can observe that if FP  and FN count decreases our prediction becomes more targeted towards those who can actually accept the card offer"
   ]
  },
  {
   "cell_type": "markdown",
   "metadata": {},
   "source": [
    "### Basic Model Building."
   ]
  },
  {
   "cell_type": "code",
   "execution_count": 716,
   "metadata": {
    "collapsed": true
   },
   "outputs": [],
   "source": [
    "df_train.head()\n",
    "X = df_train.drop('card_offer',axis=1)\n",
    "y = df_train['card_offer']\n",
    "#test_X = df_test"
   ]
  },
  {
   "cell_type": "code",
   "execution_count": 717,
   "metadata": {
    "collapsed": true
   },
   "outputs": [],
   "source": [
    "train_X, test_X, train_y,test_y = train_test_split(X,y, test_size= 0.2, random_state= 42)\n"
   ]
  },
  {
   "cell_type": "markdown",
   "metadata": {},
   "source": [
    "##### Here, we are splitting our entire transformed dataset into 80:20 ratio.\n",
    "- 20% test data will remain unseen for model. Hence can be used for error metric evaluation.\n",
    "- 80% training data will be fed to model for training."
   ]
  },
  {
   "cell_type": "markdown",
   "metadata": {},
   "source": [
    "__1. Logistic Regression Model__"
   ]
  },
  {
   "cell_type": "code",
   "execution_count": 718,
   "metadata": {},
   "outputs": [
    {
     "name": "stdout",
     "output_type": "stream",
     "text": [
      "             precision    recall  f1-score   support\n",
      "\n",
      "        0.0       0.97      0.98      0.98      1696\n",
      "        1.0       0.91      0.82      0.86       304\n",
      "\n",
      "avg / total       0.96      0.96      0.96      2000\n",
      "\n",
      "auc: 0.901874379345\n",
      "accuracy: 0.9595\n"
     ]
    }
   ],
   "source": [
    "lr=LogisticRegression(random_state=42)\n",
    "lr.fit(train_X,train_y)\n",
    "\n",
    "y_pred = lr.predict(test_X)\n",
    "\n",
    "print(classification_report(y_true=test_y,y_pred=y_pred))\n",
    "print 'auc: {}'.format(roc_auc_score(y_true=test_y,y_score=y_pred))\n",
    "print 'accuracy: {}'.format(accuracy_score(y_true=test_y,y_pred=y_pred))"
   ]
  },
  {
   "cell_type": "markdown",
   "metadata": {},
   "source": [
    "#### F1 Score for positive class in Logistic regression is 0.86.\n",
    "<hr>"
   ]
  },
  {
   "cell_type": "markdown",
   "metadata": {},
   "source": [
    "__2. Decision Tree Model__"
   ]
  },
  {
   "cell_type": "code",
   "execution_count": 721,
   "metadata": {},
   "outputs": [
    {
     "name": "stdout",
     "output_type": "stream",
     "text": [
      "             precision    recall  f1-score   support\n",
      "\n",
      "        0.0       0.98      0.97      0.97      1696\n",
      "        1.0       0.85      0.87      0.86       304\n",
      "\n",
      "avg / total       0.96      0.96      0.96      2000\n",
      "\n",
      "auc: 0.922293942403\n",
      "accuracy: 0.9575\n"
     ]
    }
   ],
   "source": [
    "dt=DecisionTreeClassifier(random_state=42)\n",
    "dt.fit(train_X,train_y)\n",
    "\n",
    "y_pred = dt.predict(test_X)\n",
    "\n",
    "print(classification_report(y_true=test_y,y_pred=y_pred))\n",
    "print 'auc: {}'.format(roc_auc_score(y_true=test_y,y_score=y_pred))\n",
    "print 'accuracy: {}'.format(accuracy_score(y_true=test_y,y_pred=y_pred))"
   ]
  },
  {
   "cell_type": "markdown",
   "metadata": {},
   "source": [
    "#### F1 Score for positive class in Decision Tree is 0.86.\n",
    "<hr>"
   ]
  },
  {
   "cell_type": "markdown",
   "metadata": {},
   "source": [
    "__3. Random Forest Model__"
   ]
  },
  {
   "cell_type": "code",
   "execution_count": 722,
   "metadata": {},
   "outputs": [
    {
     "name": "stdout",
     "output_type": "stream",
     "text": [
      "             precision    recall  f1-score   support\n",
      "\n",
      "        0.0       0.97      0.99      0.98      1696\n",
      "        1.0       0.93      0.81      0.87       304\n",
      "\n",
      "avg / total       0.96      0.96      0.96      2000\n",
      "\n",
      "auc: 0.899298659384\n",
      "accuracy: 0.962\n"
     ]
    }
   ],
   "source": [
    "rf = RandomForestClassifier(random_state=42)\n",
    "rf.fit(train_X,train_y)\n",
    "\n",
    "y_pred = rf.predict(test_X)\n",
    "\n",
    "print(classification_report(y_true=test_y,y_pred=y_pred))\n",
    "print 'auc: {}'.format(roc_auc_score(y_true=test_y,y_score=y_pred))\n",
    "print 'accuracy: {}'.format(accuracy_score(y_true=test_y,y_pred=y_pred))"
   ]
  },
  {
   "cell_type": "markdown",
   "metadata": {},
   "source": [
    "#### F1 Score for positive class in Random Forest is 0.89.\n",
    "<hr>"
   ]
  },
  {
   "cell_type": "markdown",
   "metadata": {},
   "source": [
    "### Model Selection using Hyperparameter Tuning"
   ]
  },
  {
   "cell_type": "markdown",
   "metadata": {},
   "source": [
    "##### 1. Find best estimator for Logistic Regression"
   ]
  },
  {
   "cell_type": "code",
   "execution_count": 619,
   "metadata": {},
   "outputs": [
    {
     "data": {
      "text/plain": [
       "LogisticRegression(C=1, class_weight=None, dual=False, fit_intercept=True,\n",
       "          intercept_scaling=1, max_iter=100, multi_class='ovr', n_jobs=1,\n",
       "          penalty='l2', random_state=None, solver='liblinear', tol=0.0001,\n",
       "          verbose=0, warm_start=False)"
      ]
     },
     "execution_count": 619,
     "metadata": {},
     "output_type": "execute_result"
    }
   ],
   "source": [
    "from sklearn.model_selection import GridSearchCV\n",
    "parameters = {'penalty':('l1', 'l2'), 'C':[1, 10]}\n",
    "lr_grid = LogisticRegression()\n",
    "lr_clf = GridSearchCV(lr_grid, parameters, cv=3)\n",
    "\n",
    "lr_clf.fit(train_X, train_y)\n",
    "y_pred = lr_clf.predict(test_X)\n",
    "\n",
    "lr_clf.best_estimator_"
   ]
  },
  {
   "cell_type": "code",
   "execution_count": 620,
   "metadata": {},
   "outputs": [
    {
     "name": "stdout",
     "output_type": "stream",
     "text": [
      "             precision    recall  f1-score   support\n",
      "\n",
      "        0.0       0.97      0.98      0.98      1696\n",
      "        1.0       0.91      0.82      0.86       304\n",
      "\n",
      "avg / total       0.96      0.96      0.96      2000\n",
      "\n",
      "auc: 0.901874379345\n",
      "accuracy: 0.9595\n"
     ]
    }
   ],
   "source": [
    "lr_final_grid = lr_clf.best_estimator_\n",
    "\n",
    "lr_final_grid.fit(train_X, train_y)\n",
    "y_pred = lr_final_grid.predict(test_X)\n",
    "\n",
    "print(classification_report(y_true=test_y,y_pred=y_pred))\n",
    "print 'auc: {}'.format(roc_auc_score(y_true=test_y,y_score=y_pred))\n",
    "print 'accuracy: {}'.format(accuracy_score(y_true=test_y,y_pred=y_pred))"
   ]
  },
  {
   "cell_type": "markdown",
   "metadata": {},
   "source": [
    "#### F1 Score for positive class in Logistic Regression using best estimator is 0.86.\n",
    "<hr>"
   ]
  },
  {
   "cell_type": "markdown",
   "metadata": {},
   "source": [
    "##### 2. Find best estimator for Decision Tree"
   ]
  },
  {
   "cell_type": "code",
   "execution_count": 621,
   "metadata": {},
   "outputs": [
    {
     "data": {
      "text/plain": [
       "DecisionTreeClassifier(class_weight=None, criterion='gini', max_depth=None,\n",
       "            max_features=None, max_leaf_nodes=3, min_impurity_decrease=0.0,\n",
       "            min_impurity_split=None, min_samples_leaf=1,\n",
       "            min_samples_split=2, min_weight_fraction_leaf=0.0,\n",
       "            presort=False, random_state=None, splitter='best')"
      ]
     },
     "execution_count": 621,
     "metadata": {},
     "output_type": "execute_result"
    }
   ],
   "source": [
    "parameters = {'criterion':('gini', 'entropy'), 'max_leaf_nodes':[3, 5]}\n",
    "dt_grid = DecisionTreeClassifier()\n",
    "dt_clf = GridSearchCV(dt_grid, parameters, cv=3)\n",
    "\n",
    "dt_clf.fit(train_X, train_y)\n",
    "y_pred = dt_clf.predict(test_X)\n",
    "\n",
    "dt_clf.best_estimator_"
   ]
  },
  {
   "cell_type": "code",
   "execution_count": 623,
   "metadata": {},
   "outputs": [
    {
     "name": "stdout",
     "output_type": "stream",
     "text": [
      "             precision    recall  f1-score   support\n",
      "\n",
      "        0.0       0.94      0.98      0.95      1696\n",
      "        1.0       0.82      0.62      0.71       304\n",
      "\n",
      "avg / total       0.92      0.92      0.92      2000\n",
      "\n",
      "auc: 0.800117924528\n",
      "accuracy: 0.922\n"
     ]
    }
   ],
   "source": [
    "dt_final_grid = dt_clf.best_estimator_\n",
    "\n",
    "dt_final_grid.fit(train_X, train_y)\n",
    "y_pred = dt_final_grid.predict(test_X)\n",
    "\n",
    "print(classification_report(y_true=test_y,y_pred=y_pred))\n",
    "print 'auc: {}'.format(roc_auc_score(y_true=test_y,y_score=y_pred))\n",
    "print 'accuracy: {}'.format(accuracy_score(y_true=test_y,y_pred=y_pred))"
   ]
  },
  {
   "cell_type": "markdown",
   "metadata": {},
   "source": [
    "#### F1 Score for positive class in Decision Tree using best estimator is 0.80.\n",
    "<hr>"
   ]
  },
  {
   "cell_type": "markdown",
   "metadata": {},
   "source": [
    "##### 3. Find best estimator for Random Forest."
   ]
  },
  {
   "cell_type": "code",
   "execution_count": 624,
   "metadata": {},
   "outputs": [
    {
     "data": {
      "text/plain": [
       "RandomForestClassifier(bootstrap=True, class_weight=None, criterion='entropy',\n",
       "            max_depth=None, max_features='auto', max_leaf_nodes=10,\n",
       "            min_impurity_decrease=0.0, min_impurity_split=None,\n",
       "            min_samples_leaf=1, min_samples_split=2,\n",
       "            min_weight_fraction_leaf=0.0, n_estimators=10, n_jobs=1,\n",
       "            oob_score=False, random_state=42, verbose=0, warm_start=False)"
      ]
     },
     "execution_count": 624,
     "metadata": {},
     "output_type": "execute_result"
    }
   ],
   "source": [
    "parameters = {'criterion':('gini', 'entropy'), 'max_leaf_nodes':[3, 10]}\n",
    "rf_grid = RandomForestClassifier(random_state =42)\n",
    "rf_clf = GridSearchCV(rf_grid, parameters, cv=3)\n",
    "\n",
    "rf_clf.fit(train_X, train_y)\n",
    "y_pred = rf_clf.predict(test_X)\n",
    "\n",
    "rf_clf.best_estimator_"
   ]
  },
  {
   "cell_type": "code",
   "execution_count": 625,
   "metadata": {},
   "outputs": [
    {
     "name": "stdout",
     "output_type": "stream",
     "text": [
      "             precision    recall  f1-score   support\n",
      "\n",
      "        0.0       0.92      1.00      0.96      1696\n",
      "        1.0       0.95      0.54      0.69       304\n",
      "\n",
      "avg / total       0.93      0.93      0.92      2000\n",
      "\n",
      "auc: 0.769023088381\n",
      "accuracy: 0.9265\n"
     ]
    }
   ],
   "source": [
    "rf_final_grid = rf_clf.best_estimator_\n",
    "\n",
    "rf_final_grid.fit(train_X, train_y)\n",
    "y_pred = rf_final_grid.predict(test_X)\n",
    "\n",
    "print(classification_report(y_true=test_y,y_pred=y_pred))\n",
    "print 'auc: {}'.format(roc_auc_score(y_true=test_y,y_score=y_pred))\n",
    "print 'accuracy: {}'.format(accuracy_score(y_true=test_y,y_pred=y_pred))"
   ]
  },
  {
   "cell_type": "markdown",
   "metadata": {},
   "source": [
    "#### F1 Score for positive class in Random Forest using best estimator is 0.69.\n",
    "<hr>"
   ]
  },
  {
   "cell_type": "markdown",
   "metadata": {},
   "source": [
    "## Feature Selection"
   ]
  },
  {
   "cell_type": "markdown",
   "metadata": {},
   "source": [
    "##### 1. Feature Importance by using Random Forest Regressor"
   ]
  },
  {
   "cell_type": "markdown",
   "metadata": {},
   "source": [
    "##### (1 = High Importance, 0=Low Importance)"
   ]
  },
  {
   "cell_type": "code",
   "execution_count": 626,
   "metadata": {},
   "outputs": [
    {
     "name": "stdout",
     "output_type": "stream",
     "text": [
      "Features sorted by their score:\n"
     ]
    },
    {
     "data": {
      "text/plain": [
       "[(0.4993, 'pref_cust_prob'),\n",
       " (0.2633, 'est_income'),\n",
       " (0.1711, 'hold_bal'),\n",
       " (0.0326, 'imp_crediteval'),\n",
       " (0.0119, 'axio_score'),\n",
       " (0.0118, 'RiskScore'),\n",
       " (0.0027, 'demographic_slice_DERS3w5'),\n",
       " (0.002, 'country_reg_E'),\n",
       " (0.0012, 'demographic_slice_CARDIF2'),\n",
       " (0.001, 'demographic_slice_AX03efs'),\n",
       " (0.001, 'country_reg_W'),\n",
       " (0.0008, 'demographic_slice_BWEsk45'),\n",
       " (0.0008, 'ad_exp_N'),\n",
       " (0.0005, 'ad_exp_Y')]"
      ]
     },
     "execution_count": 626,
     "metadata": {},
     "output_type": "execute_result"
    }
   ],
   "source": [
    "from sklearn.ensemble import RandomForestRegressor\n",
    "rf = RandomForestRegressor()\n",
    "rf.fit(train_X, train_y)\n",
    "print \"Features sorted by their score:\"\n",
    "sorted(zip(map(lambda x: round(x, 4), rf.feature_importances_), train_X.columns), \n",
    "             reverse=True)"
   ]
  },
  {
   "cell_type": "markdown",
   "metadata": {},
   "source": [
    "__1. Logistic Regression Model using Feature Importance__"
   ]
  },
  {
   "cell_type": "code",
   "execution_count": 627,
   "metadata": {},
   "outputs": [
    {
     "name": "stdout",
     "output_type": "stream",
     "text": [
      "             precision    recall  f1-score   support\n",
      "\n",
      "        0.0       0.97      0.98      0.98      1696\n",
      "        1.0       0.90      0.83      0.86       304\n",
      "\n",
      "avg / total       0.96      0.96      0.96      2000\n",
      "\n",
      "auc: 0.904869041708\n",
      "accuracy: 0.96\n"
     ]
    }
   ],
   "source": [
    "lr_final.fit(train_X.drop(['ad_exp_N','demographic_slice_BWEsk45','demographic_slice_AX03efs','ad_exp_Y'], axis=1), train_y)\n",
    "y_pred = lr_final.predict(test_X.drop(['ad_exp_N','demographic_slice_BWEsk45','demographic_slice_AX03efs','ad_exp_Y'], axis=1))\n",
    "\n",
    "print(classification_report(y_true=test_y,y_pred=y_pred))\n",
    "print 'auc: {}'.format(roc_auc_score(y_true=test_y,y_score=y_pred))\n",
    "print 'accuracy: {}'.format(accuracy_score(y_true=test_y,y_pred=y_pred))"
   ]
  },
  {
   "cell_type": "markdown",
   "metadata": {},
   "source": [
    "#### F1 Score for positive class in Logistic Regression using Feature Importance is 86.\n",
    "<hr>"
   ]
  },
  {
   "cell_type": "markdown",
   "metadata": {},
   "source": [
    "__2. Decision Tree Model using Feature Importance__"
   ]
  },
  {
   "cell_type": "code",
   "execution_count": 628,
   "metadata": {},
   "outputs": [
    {
     "name": "stdout",
     "output_type": "stream",
     "text": [
      "             precision    recall  f1-score   support\n",
      "\n",
      "        0.0       0.96      0.97      0.97      1696\n",
      "        1.0       0.84      0.77      0.80       304\n",
      "\n",
      "avg / total       0.94      0.94      0.94      2000\n",
      "\n",
      "auc: 0.871601911619\n",
      "accuracy: 0.9425\n"
     ]
    }
   ],
   "source": [
    "dt_final.fit(train_X.drop(['ad_exp_N','demographic_slice_BWEsk45','demographic_slice_AX03efs','ad_exp_Y'], axis=1), train_y)\n",
    "y_pred = dt_final.predict(test_X.drop(['ad_exp_N','demographic_slice_BWEsk45','demographic_slice_AX03efs','ad_exp_Y'], axis=1))\n",
    "\n",
    "print(classification_report(y_true=test_y,y_pred=y_pred))\n",
    "print 'auc: {}'.format(roc_auc_score(y_true=test_y,y_score=y_pred))\n",
    "print 'accuracy: {}'.format(accuracy_score(y_true=test_y,y_pred=y_pred))"
   ]
  },
  {
   "cell_type": "markdown",
   "metadata": {},
   "source": [
    "#### F1 Score for positive class in Decision Tree using Feature Importance is 80.\n",
    "<hr>"
   ]
  },
  {
   "cell_type": "markdown",
   "metadata": {},
   "source": [
    "__3. Random Forest Model using Feature Importance__"
   ]
  },
  {
   "cell_type": "code",
   "execution_count": 629,
   "metadata": {},
   "outputs": [
    {
     "name": "stdout",
     "output_type": "stream",
     "text": [
      "             precision    recall  f1-score   support\n",
      "\n",
      "        0.0       0.93      0.99      0.96      1696\n",
      "        1.0       0.93      0.57      0.70       304\n",
      "\n",
      "avg / total       0.93      0.93      0.92      2000\n",
      "\n",
      "auc: 0.779357000993\n",
      "accuracy: 0.928\n"
     ]
    }
   ],
   "source": [
    "rf_final.fit(train_X.drop(['ad_exp_N','demographic_slice_BWEsk45','demographic_slice_AX03efs','ad_exp_Y'], axis=1), train_y)\n",
    "y_pred = rf_final.predict(test_X.drop(['ad_exp_N','demographic_slice_BWEsk45','demographic_slice_AX03efs','ad_exp_Y'], axis=1))\n",
    "\n",
    "print(classification_report(y_true=test_y,y_pred=y_pred))\n",
    "print 'auc: {}'.format(roc_auc_score(y_true=test_y,y_score=y_pred))\n",
    "print 'accuracy: {}'.format(accuracy_score(y_true=test_y,y_pred=y_pred))"
   ]
  },
  {
   "cell_type": "markdown",
   "metadata": {},
   "source": [
    "#### F1 Score for positive class in Random Forest using Feature Importance is 72.\n",
    "<hr>"
   ]
  },
  {
   "cell_type": "markdown",
   "metadata": {},
   "source": [
    "__2. Feature Selection using RFE(Recursive Feature Elimination)__"
   ]
  },
  {
   "cell_type": "code",
   "execution_count": 630,
   "metadata": {},
   "outputs": [
    {
     "name": "stdout",
     "output_type": "stream",
     "text": [
      "Logistic Regression Feature Rankings:\n",
      "[1 3 1 4 1 1 1 1 1 1 1 6 2 5]\n",
      "================================================================================\n",
      "Decision Tree Feature Rankings:\n",
      "[3 6 5 1 1 1 4 2 1 1 1 1 1 1]\n",
      "================================================================================\n",
      "Random Forest Feature Rankings:\n",
      "[3 6 5 1 1 1 4 2 1 1 1 1 1 1]\n",
      "================================================================================\n"
     ]
    }
   ],
   "source": [
    "# create the RFE model and select 8 attributes\n",
    "rfe1 = RFE(lr, 9)\n",
    "rfe1 = rfe1.fit(train_X, train_y)\n",
    "print ('Logistic Regression Feature Rankings:')\n",
    "print(rfe1.ranking_)\n",
    "print ('==')*40\n",
    "\n",
    "rfe2 = RFE(dt, 9)\n",
    "rfe2 = rfe2.fit(train_X, train_y)\n",
    "print ('Decision Tree Feature Rankings:')\n",
    "print(rfe2.ranking_)\n",
    "print ('==')*40\n",
    "\n",
    "rfe3 = RFE(rf, 9)\n",
    "rfe3 = rfe3.fit(train_X, train_y)\n",
    "print ('Random Forest Feature Rankings:')\n",
    "print(rfe2.ranking_)\n",
    "print ('==')*40"
   ]
  },
  {
   "cell_type": "code",
   "execution_count": 631,
   "metadata": {},
   "outputs": [
    {
     "name": "stdout",
     "output_type": "stream",
     "text": [
      "LR: 0.877487\n",
      "RF: 0.867217\n",
      "DT: 0.882977\n"
     ]
    }
   ],
   "source": [
    "seed = 42\n",
    "scoring = 'f1'\n",
    "# Spot Check Algorithms\n",
    "models = []\n",
    "models.append(('LR', LogisticRegression()))\n",
    "models.append(('RF', RandomForestClassifier()))\n",
    "models.append(('DT', DecisionTreeClassifier()))\n",
    "\n",
    "from sklearn.model_selection import cross_val_score,KFold\n",
    "# evaluate each model in turn\n",
    "results = []\n",
    "names = []\n",
    "\n",
    "for name, model in models:\n",
    "    kfold = KFold(n_splits=10, random_state=seed)\n",
    "    cv_results = cross_val_score(model, train_X, train_y, cv=kfold, scoring=scoring)\n",
    "    results.append(cv_results)\n",
    "    names.append(name)\n",
    "    msg = \"%s: %f\" % (name, cv_results.mean())\n",
    "    print(msg)"
   ]
  },
  {
   "cell_type": "markdown",
   "metadata": {},
   "source": [
    "__Decision Tree Model__ performed better in kfold "
   ]
  },
  {
   "cell_type": "code",
   "execution_count": 632,
   "metadata": {},
   "outputs": [
    {
     "name": "stdout",
     "output_type": "stream",
     "text": [
      "             precision    recall  f1-score   support\n",
      "\n",
      "        0.0       0.98      0.98      0.98      1703\n",
      "        1.0       0.89      0.91      0.90       297\n",
      "\n",
      "avg / total       0.97      0.97      0.97      2000\n",
      "\n",
      "auc: 0.946833771261\n",
      "accuracy: 0.971\n"
     ]
    }
   ],
   "source": [
    "#Selecting rfe2 features since dt performed good in KFold\n",
    "X = df_train.iloc[:,[3,5,6,5,6,8,9,10,11,12,13]]\n",
    "y = df_train.card_offer\n",
    "train_X,test_X,train_y,test_y = train_test_split(X,y,random_state=9,test_size=.2)\n",
    "dt_rfe = DecisionTreeClassifier()\n",
    "dt_rfe.fit(train_X,train_y)\n",
    "\n",
    "y_pred = dt_rfe.predict(test_X)\n",
    "\n",
    "\n",
    "print(classification_report(y_true=test_y,y_pred=y_pred))\n",
    "print 'auc: {}'.format(roc_auc_score(y_true=test_y,y_score=y_pred))\n",
    "print 'accuracy: {}'.format(accuracy_score(y_true=test_y,y_pred=y_pred))"
   ]
  },
  {
   "cell_type": "markdown",
   "metadata": {},
   "source": [
    "#### F1 Score for positive class in Decision Tree using RFE is 89.\n",
    "<hr>"
   ]
  },
  {
   "cell_type": "markdown",
   "metadata": {},
   "source": [
    "## Test Data Prediction"
   ]
  },
  {
   "cell_type": "code",
   "execution_count": 723,
   "metadata": {},
   "outputs": [
    {
     "name": "stdout",
     "output_type": "stream",
     "text": [
      "<class 'pandas.core.frame.DataFrame'>\n",
      "RangeIndex: 10000 entries, 0 to 9999\n",
      "Data columns (total 12 columns):\n",
      "customer_id          10000 non-null int64\n",
      "demographic_slice    10000 non-null object\n",
      "country_reg          10000 non-null object\n",
      "ad_exp               10000 non-null object\n",
      "est_income           10000 non-null float64\n",
      "hold_bal             10000 non-null float64\n",
      "pref_cust_prob       10000 non-null float64\n",
      "imp_cscore           10000 non-null int64\n",
      "RiskScore            10000 non-null float64\n",
      "imp_crediteval       10000 non-null float64\n",
      "axio_score           10000 non-null float64\n",
      "card_offer           0 non-null float64\n",
      "dtypes: float64(7), int64(2), object(3)\n",
      "memory usage: 820.3+ KB\n"
     ]
    }
   ],
   "source": [
    "df_test = df_test1.copy()\n",
    "df_test.info()\n",
    "\n"
   ]
  },
  {
   "cell_type": "code",
   "execution_count": 724,
   "metadata": {},
   "outputs": [],
   "source": [
    "df_test['card_offer'] = 0\n",
    "#df_test.head()"
   ]
  },
  {
   "cell_type": "code",
   "execution_count": 725,
   "metadata": {},
   "outputs": [
    {
     "name": "stdout",
     "output_type": "stream",
     "text": [
      "(10000, 8)\n",
      "<class 'pandas.core.frame.DataFrame'>\n",
      "RangeIndex: 10000 entries, 0 to 9999\n",
      "Data columns (total 8 columns):\n",
      "customer_id       10000 non-null int64\n",
      "est_income        10000 non-null float64\n",
      "hold_bal          10000 non-null float64\n",
      "pref_cust_prob    10000 non-null float64\n",
      "RiskScore         10000 non-null float64\n",
      "imp_crediteval    10000 non-null float64\n",
      "axio_score        10000 non-null float64\n",
      "card_offer        10000 non-null int64\n",
      "dtypes: float64(6), int64(2)\n",
      "memory usage: 625.0 KB\n",
      "None\n"
     ]
    },
    {
     "data": {
      "text/html": [
       "<div>\n",
       "<style>\n",
       "    .dataframe thead tr:only-child th {\n",
       "        text-align: right;\n",
       "    }\n",
       "\n",
       "    .dataframe thead th {\n",
       "        text-align: left;\n",
       "    }\n",
       "\n",
       "    .dataframe tbody tr th {\n",
       "        vertical-align: top;\n",
       "    }\n",
       "</style>\n",
       "<table border=\"1\" class=\"dataframe\">\n",
       "  <thead>\n",
       "    <tr style=\"text-align: right;\">\n",
       "      <th></th>\n",
       "      <th>customer_id</th>\n",
       "      <th>est_income</th>\n",
       "      <th>hold_bal</th>\n",
       "      <th>pref_cust_prob</th>\n",
       "      <th>RiskScore</th>\n",
       "      <th>imp_crediteval</th>\n",
       "      <th>axio_score</th>\n",
       "      <th>card_offer</th>\n",
       "    </tr>\n",
       "  </thead>\n",
       "  <tbody>\n",
       "    <tr>\n",
       "      <th>0</th>\n",
       "      <td>596723</td>\n",
       "      <td>26323.092375</td>\n",
       "      <td>3.000000</td>\n",
       "      <td>0.461364</td>\n",
       "      <td>505.509062</td>\n",
       "      <td>23.806688</td>\n",
       "      <td>0.351222</td>\n",
       "      <td>0</td>\n",
       "    </tr>\n",
       "    <tr>\n",
       "      <th>1</th>\n",
       "      <td>841834</td>\n",
       "      <td>67374.621654</td>\n",
       "      <td>17.861095</td>\n",
       "      <td>0.473517</td>\n",
       "      <td>466.158076</td>\n",
       "      <td>26.068803</td>\n",
       "      <td>0.080106</td>\n",
       "      <td>0</td>\n",
       "    </tr>\n",
       "    <tr>\n",
       "      <th>2</th>\n",
       "      <td>402401</td>\n",
       "      <td>1728.369713</td>\n",
       "      <td>21.604489</td>\n",
       "      <td>0.486220</td>\n",
       "      <td>603.346280</td>\n",
       "      <td>23.628955</td>\n",
       "      <td>0.208180</td>\n",
       "      <td>0</td>\n",
       "    </tr>\n",
       "    <tr>\n",
       "      <th>3</th>\n",
       "      <td>734431</td>\n",
       "      <td>15814.210261</td>\n",
       "      <td>22.058403</td>\n",
       "      <td>0.462249</td>\n",
       "      <td>747.158221</td>\n",
       "      <td>22.533957</td>\n",
       "      <td>0.080122</td>\n",
       "      <td>0</td>\n",
       "    </tr>\n",
       "    <tr>\n",
       "      <th>4</th>\n",
       "      <td>739547</td>\n",
       "      <td>45233.588193</td>\n",
       "      <td>1.000000</td>\n",
       "      <td>0.541660</td>\n",
       "      <td>704.781194</td>\n",
       "      <td>24.298782</td>\n",
       "      <td>0.667270</td>\n",
       "      <td>0</td>\n",
       "    </tr>\n",
       "  </tbody>\n",
       "</table>\n",
       "</div>"
      ],
      "text/plain": [
       "   customer_id    est_income   hold_bal  pref_cust_prob   RiskScore  \\\n",
       "0       596723  26323.092375   3.000000        0.461364  505.509062   \n",
       "1       841834  67374.621654  17.861095        0.473517  466.158076   \n",
       "2       402401   1728.369713  21.604489        0.486220  603.346280   \n",
       "3       734431  15814.210261  22.058403        0.462249  747.158221   \n",
       "4       739547  45233.588193   1.000000        0.541660  704.781194   \n",
       "\n",
       "   imp_crediteval  axio_score  card_offer  \n",
       "0       23.806688    0.351222           0  \n",
       "1       26.068803    0.080106           0  \n",
       "2       23.628955    0.208180           0  \n",
       "3       22.533957    0.080122           0  \n",
       "4       24.298782    0.667270           0  "
      ]
     },
     "execution_count": 725,
     "metadata": {},
     "output_type": "execute_result"
    }
   ],
   "source": [
    "#test Data set\n",
    "dummies_df_test = pd.get_dummies(df_test[[\"demographic_slice\",\"country_reg\" , \"ad_exp\"]])\n",
    "print dummies_df_test.shape\n",
    "df1_test = df_test.copy()\n",
    "df1_test.drop([\"demographic_slice\",\"country_reg\" , \"ad_exp\", \"imp_cscore\"], axis=1 ,inplace=True)\n",
    "print df1_test.info()\n",
    "df1_test.head()"
   ]
  },
  {
   "cell_type": "code",
   "execution_count": 726,
   "metadata": {},
   "outputs": [
    {
     "data": {
      "text/plain": [
       "(10000, 7)"
      ]
     },
     "execution_count": 726,
     "metadata": {},
     "output_type": "execute_result"
    }
   ],
   "source": [
    "df1_test.drop(['customer_id'],inplace=True, axis=1)\n",
    "df1_test.shape"
   ]
  },
  {
   "cell_type": "code",
   "execution_count": 558,
   "metadata": {
    "collapsed": true
   },
   "outputs": [],
   "source": [
    "#df1_test['card_offer'] = 0"
   ]
  },
  {
   "cell_type": "code",
   "execution_count": 727,
   "metadata": {},
   "outputs": [],
   "source": [
    "#print len(df1_test.columns)\n",
    "scaler = RobustScaler()\n",
    "scaled_df1_test = scaler.fit_transform(df1_test)\n",
    "df1_columns = df1_test.columns\n",
    "df1 = pd.DataFrame(scaled_df1_test, columns=df1_columns)\n",
    "#df1.head()\n",
    "\n",
    "df_test = pd.concat([dummies_df_test , df1_test], axis=1)\n",
    "\n",
    "#df_test.shape\n"
   ]
  },
  {
   "cell_type": "code",
   "execution_count": 728,
   "metadata": {},
   "outputs": [],
   "source": [
    "#df_test.head()\n",
    "X = df_test.drop(\"card_offer\",axis=1)\n",
    "#X.shape\n",
    "#y_final =dt.predict(X)"
   ]
  },
  {
   "cell_type": "code",
   "execution_count": 729,
   "metadata": {},
   "outputs": [
    {
     "name": "stdout",
     "output_type": "stream",
     "text": [
      "Positive Test class by using basic Decision Tree Model: 2264\n"
     ]
    }
   ],
   "source": [
    "#X = df_test.drop(['ad_exp_N','demographic_slice_BWEsk45','demographic_slice_AX03efs','ad_exp_Y','card_offer'], axis=1)\n",
    "#X = df_test.iloc[:,[3,5,6,5,6,8,9,10,11,12,13]]\n",
    "\n",
    "#dt.fit(train_X,train_y)\n",
    "\n",
    "y_pred = dt.predict(X)\n",
    "total_test_rows = y_pred.shape[0]\n",
    "positive_test_count = np.count_nonzero(y_pred)\n",
    "print 'Positive Test class by using basic Decision Tree Model: {}'.format (positive_test_count)"
   ]
  },
  {
   "cell_type": "code",
   "execution_count": 730,
   "metadata": {},
   "outputs": [
    {
     "name": "stdout",
     "output_type": "stream",
     "text": [
      "Positive Test class by using basic Decision Tree Model(Percentage): 22.64%\n"
     ]
    }
   ],
   "source": [
    "percentage_recommended = 100 * float(positive_test_count) / float(total_test_rows)\n",
    "print 'Positive Test class by using basic Decision Tree Model(Percentage): {}'.format(percentage_recommended)+\"%\""
   ]
  },
  {
   "cell_type": "code",
   "execution_count": 731,
   "metadata": {},
   "outputs": [
    {
     "data": {
      "text/html": [
       "<div>\n",
       "<style>\n",
       "    .dataframe thead tr:only-child th {\n",
       "        text-align: right;\n",
       "    }\n",
       "\n",
       "    .dataframe thead th {\n",
       "        text-align: left;\n",
       "    }\n",
       "\n",
       "    .dataframe tbody tr th {\n",
       "        vertical-align: top;\n",
       "    }\n",
       "</style>\n",
       "<table border=\"1\" class=\"dataframe\">\n",
       "  <thead>\n",
       "    <tr style=\"text-align: right;\">\n",
       "      <th></th>\n",
       "      <th>customer_id</th>\n",
       "      <th>demographic_slice</th>\n",
       "      <th>country_reg</th>\n",
       "      <th>ad_exp</th>\n",
       "      <th>est_income</th>\n",
       "      <th>hold_bal</th>\n",
       "      <th>pref_cust_prob</th>\n",
       "      <th>imp_cscore</th>\n",
       "      <th>RiskScore</th>\n",
       "      <th>imp_crediteval</th>\n",
       "      <th>axio_score</th>\n",
       "      <th>card_offer</th>\n",
       "    </tr>\n",
       "  </thead>\n",
       "  <tbody>\n",
       "    <tr>\n",
       "      <th>0</th>\n",
       "      <td>596723</td>\n",
       "      <td>AX03efs</td>\n",
       "      <td>W</td>\n",
       "      <td>N</td>\n",
       "      <td>26323.092375</td>\n",
       "      <td>3.000000</td>\n",
       "      <td>0.461364</td>\n",
       "      <td>603</td>\n",
       "      <td>505.509062</td>\n",
       "      <td>23.806688</td>\n",
       "      <td>0.351222</td>\n",
       "      <td>0.0</td>\n",
       "    </tr>\n",
       "    <tr>\n",
       "      <th>1</th>\n",
       "      <td>841834</td>\n",
       "      <td>AX03efs</td>\n",
       "      <td>E</td>\n",
       "      <td>Y</td>\n",
       "      <td>67374.621654</td>\n",
       "      <td>17.861095</td>\n",
       "      <td>0.473517</td>\n",
       "      <td>650</td>\n",
       "      <td>466.158076</td>\n",
       "      <td>26.068803</td>\n",
       "      <td>0.080106</td>\n",
       "      <td>0.0</td>\n",
       "    </tr>\n",
       "    <tr>\n",
       "      <th>2</th>\n",
       "      <td>402401</td>\n",
       "      <td>AX03efs</td>\n",
       "      <td>E</td>\n",
       "      <td>N</td>\n",
       "      <td>1728.369713</td>\n",
       "      <td>21.604489</td>\n",
       "      <td>0.486220</td>\n",
       "      <td>606</td>\n",
       "      <td>603.346280</td>\n",
       "      <td>23.628955</td>\n",
       "      <td>0.208180</td>\n",
       "      <td>0.0</td>\n",
       "    </tr>\n",
       "    <tr>\n",
       "      <th>3</th>\n",
       "      <td>734431</td>\n",
       "      <td>AX03efs</td>\n",
       "      <td>E</td>\n",
       "      <td>Y</td>\n",
       "      <td>15814.210261</td>\n",
       "      <td>22.058403</td>\n",
       "      <td>0.462249</td>\n",
       "      <td>530</td>\n",
       "      <td>747.158221</td>\n",
       "      <td>22.533957</td>\n",
       "      <td>0.080122</td>\n",
       "      <td>0.0</td>\n",
       "    </tr>\n",
       "    <tr>\n",
       "      <th>4</th>\n",
       "      <td>739547</td>\n",
       "      <td>AX03efs</td>\n",
       "      <td>W</td>\n",
       "      <td>Y</td>\n",
       "      <td>45233.588193</td>\n",
       "      <td>1.000000</td>\n",
       "      <td>0.541660</td>\n",
       "      <td>640</td>\n",
       "      <td>704.781194</td>\n",
       "      <td>24.298782</td>\n",
       "      <td>0.667270</td>\n",
       "      <td>1.0</td>\n",
       "    </tr>\n",
       "  </tbody>\n",
       "</table>\n",
       "</div>"
      ],
      "text/plain": [
       "   customer_id demographic_slice country_reg ad_exp    est_income   hold_bal  \\\n",
       "0       596723           AX03efs           W      N  26323.092375   3.000000   \n",
       "1       841834           AX03efs           E      Y  67374.621654  17.861095   \n",
       "2       402401           AX03efs           E      N   1728.369713  21.604489   \n",
       "3       734431           AX03efs           E      Y  15814.210261  22.058403   \n",
       "4       739547           AX03efs           W      Y  45233.588193   1.000000   \n",
       "\n",
       "   pref_cust_prob  imp_cscore   RiskScore  imp_crediteval  axio_score  \\\n",
       "0        0.461364         603  505.509062       23.806688    0.351222   \n",
       "1        0.473517         650  466.158076       26.068803    0.080106   \n",
       "2        0.486220         606  603.346280       23.628955    0.208180   \n",
       "3        0.462249         530  747.158221       22.533957    0.080122   \n",
       "4        0.541660         640  704.781194       24.298782    0.667270   \n",
       "\n",
       "   card_offer  \n",
       "0         0.0  \n",
       "1         0.0  \n",
       "2         0.0  \n",
       "3         0.0  \n",
       "4         1.0  "
      ]
     },
     "execution_count": 731,
     "metadata": {},
     "output_type": "execute_result"
    }
   ],
   "source": [
    "excel_df = df_test1.copy()\n",
    "excel_df['card_offer'] =  y_pred\n",
    "excel_df.head()"
   ]
  },
  {
   "cell_type": "code",
   "execution_count": 732,
   "metadata": {},
   "outputs": [],
   "source": [
    "writer = pd.ExcelWriter('Desktop/output.xlsx')\n",
    "excel_df.to_excel(writer,'Sheet1')\n",
    "writer.save()"
   ]
  },
  {
   "cell_type": "markdown",
   "metadata": {},
   "source": [
    "## Conclusion"
   ]
  },
  {
   "cell_type": "markdown",
   "metadata": {},
   "source": [
    "As per given dataset we go with F1 Score as evaluation metric for our models. You can observe that if FP and FN count decreases our prediction becomes more targeted towards those who can actually accept the card offer.\n",
    "Our Basic Decision Tree Model has given good __F1 score(90%)__, so we finally concluded that Decision Tree model works better on unseen given Dataset.\n",
    "Our Final Model has predict __22.64%__ customer will response to the Card Offer."
   ]
  }
 ],
 "metadata": {
  "kernelspec": {
   "display_name": "Python 2",
   "language": "python",
   "name": "python2"
  },
  "language_info": {
   "codemirror_mode": {
    "name": "ipython",
    "version": 2
   },
   "file_extension": ".py",
   "mimetype": "text/x-python",
   "name": "python",
   "nbconvert_exporter": "python",
   "pygments_lexer": "ipython2",
   "version": "2.7.14"
  }
 },
 "nbformat": 4,
 "nbformat_minor": 2
}
